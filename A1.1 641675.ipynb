{
 "cells": [
  {
   "cell_type": "markdown",
   "id": "684115e5-380d-49b4-b908-d1ca414660be",
   "metadata": {},
   "source": [
    "# ( A1.1 Aprendizaje estadístico-automático)                        \n",
    "                                                                                                       Fernando Ariel Lozano Castillo\n",
    "Los niveles de obesidad de la población son cada vez más preocupantes, sobre todo en países latinoamericanos. Por lo mismo, científicos de la Universidad de la Costa en Colombia se dieron a la tarea de recolectar información relacionada a este tema para individuos de Colombia, Perú, y México. La base de datos original se encuentra en el [UCI Machine Learning Repository](https://archive.ics.uci.edu/dataset/544/estimation+of+obesity+levels+based+on+eating+habits+and+physical+condition), pero una versión simplificada con el nombre “A1.1 Obesidad.csv” fue usada para este proyecto en el enlace.\n"
   ]
  },
  {
   "cell_type": "markdown",
   "id": "8162fb1e-a67d-495b-9c10-e250e5a74c8d",
   "metadata": {},
   "source": [
    "La base de datos cuenta con la siguiente información:\n",
    "\n",
    "1. **“Sexo”**. Se describe como femenino (Female) o masculino (Male).\n",
    "\n",
    "2.  **“Edad”**. Se describe como un número entre 14 y 61.\n",
    "3. **“Estatura”**. Se describe como un número, en metros.\n",
    "\n",
    "4. **“Peso”**. Se describe como un número, en kilogramos.\n",
    "\n",
    "5. **“FamiliarConSobrepeso”**. Describe si algún familiar ha sufrido sobrepeso (yes) o no\n",
    "(no).\n",
    "\n",
    "6. **“ComeMuchasCalorias”**. Describe si el individuo come comidas con alto contenido\n",
    "calórico de forma frecuente (yes) o no (no)\n",
    "\n",
    "7. **“ComeVegetales”**. Indica si el individuo nunca come vegetales en sus comidas (1), si lo\n",
    "hace algunas veces (2), o si lo hace siempre (3)\n",
    "\n",
    "8. **“Fumador”**. Indica si la persona es fumadora activa (yes) o no (no)\n",
    "\n",
    "9. **“ConsumoDeAgua”**. Indica si la persona toma menos de un litro de agua al día (1), entre\n",
    "uno y dos litros de agua al día (2), o más de dos litros de agua al día (3)\n",
    "\n",
    "10.  **“NivelDeObesidad”**. Se calcula a partir del índice de masa corporal (peso dividido entre\n",
    "estatura al cuadrado), y se categoriza como:\n",
    "**bajo peso** (Insufficient_Weight) para valores\n",
    "menores a 18.5, **peso normal** (Normal_Weight) para valores entre 18.5 y 24.9, **sobrepeso\n",
    "tipo I** (Overweight_Level_I) y **sobrepeso tipo II** (Overweight_Level_II) para valores entre\n",
    "25.0 y 29.9, **obesidad tipo I** (Obesity_Type_I) para valores entre 30.00 y 34.9, **obesidad\n",
    "tipo II** (Obesity_Type_II) para valores entre 35.0 y 39.9, y **obesidad tipo III**\n",
    "(Obesity_Type_III) para valores superiores a 40.0\n"
   ]
  },
  {
   "cell_type": "markdown",
   "id": "aaadd942-ce8a-4328-8491-a295273b948b",
   "metadata": {},
   "source": [
    "**¿Qué información te interesaría revisar si formaran parte del equipo de investigación? ¿Qué información te hubiera gustado recopilar y que actualmente no se encuentra en el estudio?**\n",
    "\n",
    "Me hubiera gustado revisar el nivel socioeconómico, los ingresos y qué tanto dinero se pueden permitir gastar para sus comidas, las personas que fueron parte del estudio.\n"
   ]
  },
  {
   "cell_type": "markdown",
   "id": "05b8b46c-62cd-4fea-9d9c-b0148ecaf2ea",
   "metadata": {},
   "source": [
    "1. Ahora importamos la librería pandas, luego leeremos el archivo y guardaremos su información en la variable  **data** , con la función **read_csv()** "
   ]
  },
  {
   "cell_type": "code",
   "execution_count": 50,
   "id": "2ac08289-5325-4056-ab6d-fd58d330cce3",
   "metadata": {},
   "outputs": [],
   "source": [
    "# Se importa la librería pandas, usando el término \"pd\" como sinónimo\n",
    "import pandas as pd\n",
    "data= pd.read_csv(\" ExcObesidad.csv\")"
   ]
  },
  {
   "cell_type": "markdown",
   "id": "52226e3f-de54-4bf5-a108-93fb50642a8a",
   "metadata": {},
   "source": [
    "2. Entonces ahora para checar si se hizo correcto el procedimiento,  imprimimos las primeras 10 filas de datos con el comando **head(10)**."
   ]
  },
  {
   "cell_type": "code",
   "execution_count": 52,
   "id": "15eefb0d-cd86-41c1-8d86-8651037fa42b",
   "metadata": {},
   "outputs": [
    {
     "name": "stdout",
     "output_type": "stream",
     "text": [
      "     Sexo  Edad  Estatura  Peso FamiliarConSobrepeso ComeMuchasCalorias  \\\n",
      "0  Female  21.0      1.62  64.0                  yes                 no   \n",
      "1  Female  21.0      1.52  56.0                  yes                 no   \n",
      "2    Male  23.0      1.80  77.0                  yes                 no   \n",
      "3    Male  27.0      1.80  87.0                   no                 no   \n",
      "4    Male  22.0      1.78  89.8                   no                 no   \n",
      "5    Male  29.0      1.62  53.0                   no                yes   \n",
      "6  Female  23.0      1.50  55.0                  yes                yes   \n",
      "7    Male  22.0      1.64  53.0                   no                 no   \n",
      "8    Male  24.0      1.78  64.0                  yes                yes   \n",
      "9    Male  22.0      1.72  68.0                  yes                yes   \n",
      "\n",
      "   ComeVegetales Fumador  ConsumoDeAgua      NivelDeObesidad  \n",
      "0            2.0      no            2.0        Normal_Weight  \n",
      "1            3.0     yes            3.0        Normal_Weight  \n",
      "2            2.0      no            2.0        Normal_Weight  \n",
      "3            3.0      no            2.0   Overweight_Level_I  \n",
      "4            2.0      no            2.0  Overweight_Level_II  \n",
      "5            2.0      no            2.0        Normal_Weight  \n",
      "6            3.0      no            2.0        Normal_Weight  \n",
      "7            2.0      no            2.0        Normal_Weight  \n",
      "8            3.0      no            2.0        Normal_Weight  \n",
      "9            2.0      no            2.0        Normal_Weight  \n"
     ]
    }
   ],
   "source": [
    "print(data.head(10))"
   ]
  },
  {
   "cell_type": "markdown",
   "id": "6f510828-f1ba-4d36-8ed5-06b8f4b71d21",
   "metadata": {},
   "source": [
    "3. ¿Qué variables investigaría si fuera parte del equipo de investigación?\n",
    "\n",
    "Me hubiera gustado investigar las siguientes variables adicionales:\n",
    "\n",
    "**Depresión:** Una variable cualitativa con respuestas de sí o no, que podría influir en los hábitos alimenticios y la salud mental de los individuos, afectando potencialmente su comportamiento con relación a la comida.\n",
    "\n",
    "**Nivel Socioeconómico:** Una variable cualitativa que clasifica a los individuos en bajo, medio o alto. Esta variable puede tener un impacto directo en las opciones alimenticias y en el acceso a recursos para mantener un estilo de vida saludable.\n"
   ]
  },
  {
   "cell_type": "markdown",
   "id": "9b8978bb-a193-4ac8-b7e6-57ad5fae13d9",
   "metadata": {},
   "source": [
    "4. Si tú fueras el líder del proyecto y quisieras realizar un estudio de inferencia, ¿qué variable\n",
    "de la base de datos definirías como la salida o respuesta? Aquella variable para la que te\n",
    "interesa encontrar asociaciones específicas. Imprime el promedio de dicha variable, si es\n",
    "cuantitativa, o la cantidad de personas que pertenecen a cada categoría, si es cualitativa."
   ]
  },
  {
   "cell_type": "markdown",
   "id": "3d252be3-967e-44aa-9eb7-9add44ab5481",
   "metadata": {},
   "source": [
    "Si fuera el líder de este proyecto me gustaría usar al **Nivel de obesidad** como la *variable de salida* y de esta manera saber como las demás variables se relacionan para tener cierto nivel. **Esta es una variable cualitativa.**"
   ]
  },
  {
   "cell_type": "markdown",
   "id": "407d0646-2689-4b09-9200-8f62f6e20b49",
   "metadata": {},
   "source": [
    "Ahora, para saber la cantidad de personas que pertenecen a cada categoría, se usó primero la función “value_counts()” de pandas y despues otro modo más reciente de value_counts que es hacerlo directamente sobre la columna de la variable de data. "
   ]
  },
  {
   "cell_type": "code",
   "execution_count": 80,
   "id": "8297fc70-4214-42c7-b434-68d90a3b2802",
   "metadata": {},
   "outputs": [
    {
     "name": "stderr",
     "output_type": "stream",
     "text": [
      "C:\\Users\\Ferna\\AppData\\Local\\Temp\\ipykernel_10020\\3574144001.py:1: FutureWarning: pandas.value_counts is deprecated and will be removed in a future version. Use pd.Series(obj).value_counts() instead.\n",
      "  pd.value_counts(data.NivelDeObesidad)\n"
     ]
    },
    {
     "data": {
      "text/plain": [
       "NivelDeObesidad\n",
       "Obesity_Type_I         351\n",
       "Obesity_Type_III       324\n",
       "Obesity_Type_II        297\n",
       "Overweight_Level_I     290\n",
       "Overweight_Level_II    290\n",
       "Normal_Weight          287\n",
       "Insufficient_Weight    272\n",
       "Name: count, dtype: int64"
      ]
     },
     "execution_count": 80,
     "metadata": {},
     "output_type": "execute_result"
    }
   ],
   "source": [
    "pd.value_counts(data.NivelDeObesidad)"
   ]
  },
  {
   "cell_type": "code",
   "execution_count": 82,
   "id": "4f1ad8a4-5dfe-488d-9a45-716e81f6f5a9",
   "metadata": {},
   "outputs": [
    {
     "name": "stdout",
     "output_type": "stream",
     "text": [
      "NivelDeObesidad\n",
      "Obesity_Type_I         351\n",
      "Obesity_Type_III       324\n",
      "Obesity_Type_II        297\n",
      "Overweight_Level_I     290\n",
      "Overweight_Level_II    290\n",
      "Normal_Weight          287\n",
      "Insufficient_Weight    272\n",
      "Name: count, dtype: int64\n"
     ]
    }
   ],
   "source": [
    "# Usando directamente value_counts() sobre la columna\n",
    "print(data[\"NivelDeObesidad\"].value_counts())"
   ]
  },
  {
   "cell_type": "markdown",
   "id": "48b1ae8f-ef33-420f-ad3a-3a6848412a5f",
   "metadata": {},
   "source": [
    "5. Genera una gráfica, exclusivamente para la población masculina o femenina (cada quién\n",
    "decidirá su población de interés), que muestre en el eje “Y” la variable de salida (de\n",
    "acuerdo a lo que definiste en el punto anterior), y en el eje “X” alguna variable cuantitativa\n",
    "que les llame la atención. Asegúrate de usar un valor de transparencia menor a 0.1. "
   ]
  },
  {
   "cell_type": "markdown",
   "id": "1b89dc91-96a0-4e9b-b105-ebc420dba2df",
   "metadata": {},
   "source": [
    "Ahora para la ultima parte se uso lo siguiente:"
   ]
  },
  {
   "cell_type": "markdown",
   "id": "0aefa3e3-1ee6-4b1b-8946-f2bc01f4f2bd",
   "metadata": {},
   "source": [
    "- **`%matplotlib inline`**: Permite mostrar gráficos de Matplotlib directamente en las celdas del notebook, en lugar de abrirlos en una ventana externa.  \n",
    "- **`import matplotlib.pyplot as plt`**: Importa el módulo `pyplot` de Matplotlib y lo asigna al alias `plt` para crear gráficos fácilmente.  \n",
    "- **`Edades=data.Edad[data.Sexo==\"Male\"]`**: Filtra la columna **`Edad`** del DataFrame **`data`**, seleccionando solo las edades de los hombres.  \n",
    "- **`Niveles=data.NivelDeObesidad[data.Sexo==\"Male\"]`**: Filtra la columna **`NivelDeObesidad`** del DataFrame **`data`**, seleccionando solo los niveles de obesidad de los hombres.  \n",
    "- **`plt.scatter(x=Edades, y=Niveles, alpha=0.04)`**: Crea un gráfico de dispersión con **`Edades`** en el eje X y **`Niveles`** en el eje Y. La transparencia de los puntos está configurada con **`alpha=0.04`**.  \n",
    "- **`plt.show()`**: Muestra el gráfico creado en el notebook.  \n"
   ]
  },
  {
   "cell_type": "code",
   "execution_count": 97,
   "id": "97c18a82-9e10-4c56-aa61-88fe2c69d2fa",
   "metadata": {},
   "outputs": [
    {
     "name": "stdout",
     "output_type": "stream",
     "text": [
      "2       23.000000\n",
      "3       27.000000\n",
      "4       22.000000\n",
      "5       29.000000\n",
      "7       22.000000\n",
      "          ...    \n",
      "1794    30.642430\n",
      "1795    20.068432\n",
      "1796    20.914366\n",
      "1797    25.512048\n",
      "1798    26.844812\n",
      "Name: Edad, Length: 1068, dtype: float64\n"
     ]
    },
    {
     "data": {
      "image/png": "[encoded data removed]",
      "text/plain": [
       "<Figure size 640x480 with 1 Axes>"
      ]
     },
     "metadata": {},
     "output_type": "display_data"
    }
   ],
   "source": [
    "\n",
    "%matplotlib inline\n",
    "\n",
    "import matplotlib.pyplot as plt\n",
    "#En la variable Edades y Niveles, se guarda la información correspondiente a los hombres\n",
    "Edades=data.Edad[data.Sexo==\"Male\"]\n",
    "\n",
    "Niveles=data.NivelDeObesidad[data.Sexo==\"Male\"]\n",
    "\n",
    "plt.scatter(x =Edades , y = Niveles, alpha = 0.04)\n",
    "plt.show()"
   ]
  },
  {
   "cell_type": "markdown",
   "id": "f512d1b5-4bf1-44d6-b93c-06b141a15944",
   "metadata": {},
   "source": [
    "**Firma de Honor**\n",
    "Doy mi palabra que he realizado esta actividad con integridad académica"
   ]
  },
  {
   "cell_type": "code",
   "execution_count": null,
   "id": "ae514719-e2a9-438c-8b11-de36bd465e48",
   "metadata": {},
   "outputs": [],
   "source": []
  }
 ],
 "metadata": {
  "kernelspec": {
   "display_name": "Python [conda env:base] *",
   "language": "python",
   "name": "conda-base-py"
  },
  "language_info": {
   "codemirror_mode": {
    "name": "ipython",
    "version": 3
   },
   "file_extension": ".py",
   "mimetype": "text/x-python",
   "name": "python",
   "nbconvert_exporter": "python",
   "pygments_lexer": "ipython3",
   "version": "3.12.7"
  }
 },
 "nbformat": 4,
 "nbformat_minor": 5
}
